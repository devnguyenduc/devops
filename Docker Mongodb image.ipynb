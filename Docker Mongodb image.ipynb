{
 "cells": [
  {
   "cell_type": "markdown",
   "metadata": {},
   "source": [
    "### pull image mongo về\n",
    "\n",
    "```python\n",
    "docker pull mongo\n",
    "```\n",
    "\n",
    "### Start một mongo server instance\n",
    "```python\n",
    "docker run --name <some-mongo> -d mongo:tag\n",
    "```\n",
    "\\<some-mongo> là tên của container bạn đặt khi start image mongo\n",
    "### Kết nối tới MongoDb từ một Docker container khác.\n",
    "MongoDB server listen port 27017, do đó kết nối thông qua Docker Network sẽ giống như việc kết nối tới một điều khiển mongod.\n",
    "```python\n",
    "docker run -it --network <some-network> --rm mongo mongo:tag --host <some-mongo> test\n",
    "```\n"
   ]
  }
 ],
 "metadata": {
  "kernelspec": {
   "display_name": "Python 3",
   "language": "python",
   "name": "python3"
  },
  "language_info": {
   "codemirror_mode": {
    "name": "ipython",
    "version": 3
   },
   "file_extension": ".py",
   "mimetype": "text/x-python",
   "name": "python",
   "nbconvert_exporter": "python",
   "pygments_lexer": "ipython3",
   "version": "3.6.8"
  }
 },
 "nbformat": 4,
 "nbformat_minor": 4
}
